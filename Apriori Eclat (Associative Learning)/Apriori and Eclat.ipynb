{
  "nbformat": 4,
  "nbformat_minor": 0,
  "metadata": {
    "colab": {
      "provenance": []
    },
    "kernelspec": {
      "name": "python3",
      "display_name": "Python 3"
    },
    "language_info": {
      "name": "python"
    }
  },
  "cells": [
    {
      "cell_type": "markdown",
      "source": [
        "APRIORI ALGORTHM's CODE"
      ],
      "metadata": {
        "id": "4KiId6NVcqI1"
      }
    },
    {
      "cell_type": "code",
      "execution_count": null,
      "metadata": {
        "id": "CwhVIDlvcnG9"
      },
      "outputs": [],
      "source": [
        "from apyori import apriori\n",
        "\n",
        "# Example dataset\n",
        "transactions = [\n",
        "    ['Milk', 'Bread', 'Butter'],\n",
        "    ['Beer', 'Diaper', 'Milk'],\n",
        "    ['Milk', 'Diaper', 'Bread', 'Butter'],\n",
        "    ['Bread', 'Butter'],\n",
        "    ['Milk', 'Bread', 'Beer']\n",
        "]\n",
        "\n",
        "# Applying Apriori algorithm\n",
        "rules = apriori(transactions, min_support=0.3, min_confidence=0.7, min_lift=1.2, min_length=2)\n",
        "\n",
        "# Extracting results\n",
        "results = list(rules)\n",
        "\n",
        "# Displaying the results\n",
        "for item in results:\n",
        "    pair = item[0]\n",
        "    items = [x for x in pair]\n",
        "    print(f\"Rule: {items}\")\n",
        "    print(f\"Support: {item[1]}\")\n",
        "    print(f\"Confidence: {item[2][0][2]}\")\n",
        "    print(f\"Lift: {item[2][0][3]}\")\n",
        "    print(\"\\n\")\n"
      ]
    },
    {
      "cell_type": "markdown",
      "source": [
        "ECLAR'S CODE"
      ],
      "metadata": {
        "id": "xVM73wEQcxzG"
      }
    },
    {
      "cell_type": "code",
      "source": [
        "from collections import defaultdict\n",
        "\n",
        "# Example dataset\n",
        "transactions = [\n",
        "    ['Milk', 'Bread', 'Butter'],\n",
        "    ['Beer', 'Diaper', 'Milk'],\n",
        "    ['Milk', 'Diaper', 'Bread', 'Butter'],\n",
        "    ['Bread', 'Butter'],\n",
        "    ['Milk', 'Bread', 'Beer']\n",
        "]\n",
        "\n",
        "# Convert to vertical format\n",
        "vertical_format = defaultdict(set)\n",
        "for tid, transaction in enumerate(transactions):\n",
        "    for item in transaction:\n",
        "        vertical_format[item].add(tid)\n",
        "\n",
        "# Function to find frequent itemsets using ECLAT\n",
        "def eclat(prefix, items, min_support):\n",
        "    while items:\n",
        "        i, itids = items.pop()\n",
        "        isupport = len(itids)\n",
        "        if isupport >= min_support:\n",
        "            yield prefix + [i], itids\n",
        "            suffix = []\n",
        "            for j, jtids in items:\n",
        "                intersection = itids & jtids\n",
        "                if len(intersection) >= min_support:\n",
        "                    suffix.append((j, intersection))\n",
        "            yield from eclat(prefix + [i], suffix, min_support)\n",
        "\n",
        "# Applying ECLAT algorithm\n",
        "min_support = 2\n",
        "frequent_itemsets = list(eclat([], sorted(vertical_format.items(), key=lambda x: len(x[1]), reverse=True), min_support))\n",
        "\n",
        "# Displaying the results\n",
        "for itemset, tidset in frequent_itemsets:\n",
        "    print(f\"Itemset: {itemset}, Support: {len(tidset)}\")\n"
      ],
      "metadata": {
        "id": "50x_C11Mc2c0"
      },
      "execution_count": null,
      "outputs": []
    },
    {
      "cell_type": "markdown",
      "source": [
        "Explanation of the Code\n",
        "----\n",
        "Apriori Algorithm Code\n",
        "---\n",
        "Dataset: The dataset is a list of transactions where each transaction is a list of items.\n",
        "\n",
        "Apply Apriori: The apriori function from the apyori library is used with specified minimum support, confidence, and lift.\n",
        "\n",
        "Extract and Display Results: The results are extracted and displayed, showing the rules, support, confidence, and lift values.\n",
        "\n",
        "ECLAT Algorithm Code\n",
        "---\n",
        "Dataset: The dataset is the same as for Apriori.\n",
        "Vertical Format: Convert the dataset into a vertical format where each item is associated with a set of transaction IDs in which it appears.\n",
        "\n",
        "ECLAT Function: The eclat function recursively finds frequent itemsets by intersecting transaction ID sets.\n",
        "\n",
        "Apply ECLAT: The eclat function is called with a minimum support threshold to find frequent itemsets.\n",
        "\n",
        "Display Results: The results are displayed, showing the itemsets and their support values."
      ],
      "metadata": {
        "id": "ziv_S2L8c361"
      }
    }
  ]
}